{
 "cells": [
  {
   "cell_type": "markdown",
   "metadata": {
    "id": "cGbn68fuu5u8"
   },
   "source": [
    "# Homework 1. Relational Algebra"
   ]
  },
  {
   "cell_type": "markdown",
   "metadata": {
    "id": "INZpi7VUP3tl"
   },
   "source": [
    "## CompanyDB Schema\n",
    "\n",
    "### Note that attribute names are capitalized\n",
    "```\n",
    "E(Fname,Minit,Lname,Ssn,Bdate,Address,Sex,Salary,Superssn,Dno)\n",
    "D(Dname,Dnumber,Mgrssn,Mgrstartdate)\n",
    "DL(Dnumber,Dlocation)\n",
    "P(Pname,Pnumber,Plocation,Dnum)\n",
    "WO(Essn,Pno,Hours)\n",
    "DE(Essn,Dependent_name,Sex,Bdate,Relationship)\n",
    "```"
   ]
  },
  {
   "cell_type": "markdown",
   "metadata": {
    "id": "pUDDFn7eu5u9"
   },
   "source": [
    "## First, run the following cell before you do your homework"
   ]
  },
  {
   "cell_type": "markdown",
   "metadata": {
    "id": "P1PmB-Q2u5u9"
   },
   "source": [
    "## DB setup"
   ]
  },
  {
   "cell_type": "code",
   "execution_count": null,
   "metadata": {
    "id": "9LZeWDA7u5u-"
   },
   "outputs": [],
   "source": [
    "EMPLOYEE_csv = 'Fname,Minit,Lname,Ssn,Bdate,Address,Sex,Salary,Superssn,Dno\\r\\nJohn,B,Smith,123456789,1965-01-09,731-Fondren-Houston-TX,M,30000.00,333445555,5\\r\\nFranklin,T,Wong,333445555,1955-12-08,638-Voss-Houston-TX,M,40000.00,888665555,5\\r\\nJoyce,A,English,453453453,1972-07-31,5631-Rice-Houston-TX,F,25000.00,333445555,5\\r\\nRamesh,K,Narayan,666884444,1962-09-15,975-Fire-Oak-Humble-TX,M,38000.00,333445555,5\\r\\nJames,E,Borg,888665555,1937-11-10,450-Stone-Houston-TX,M,55000.00,,1\\r\\nJennifer,S,Wallace,987654321,1941-06-20,291-Berry-Bellaire-TX,F,43000.00,888665555,4\\r\\nAhmad,V,Jabbar,987987987,1969-03-29,980-Dallas-Houston-TX,M,25000.00,987654321,4\\r\\nAlicia,J,Zelaya,999887777,1968-01-19,3321-Castle-Spring-TX,F,25000.00,987654321,4\\r\\n'\n",
    "DEPARTMENT_csv = 'Dname,Dnumber,Mgrssn,Mgrstartdate\\r\\nHeadquarters,1,888665555,1981-06-19\\r\\nAdministration,4,987654321,1995-01-01\\r\\nResearch,5,333445555,1988-05-22\\r\\n'\n",
    "DEPT_LOCATIONS_csv = 'Dnumber,Dlocation\\r\\n1,Houston\\r\\n4,Stafford\\r\\n5,Bellaire\\r\\n5,Houston\\r\\n5,Sugarland\\r\\n'\n",
    "PROJECT_csv = 'Pname,Pnumber,Plocation,Dnum\\r\\nProductX,1,Bellaire,5\\r\\nProductY,2,Sugarland,5\\r\\nProductZ,3,Houston,5\\r\\nComputerization,10,Stafford,4\\r\\nReorganization,20,Houston,1\\r\\nNewbenefits,30,Stafford,4\\r\\n'\n",
    "WORKS_ON_csv = 'Essn,Pno,Hours\\r\\n123456789,1,32.5\\r\\n123456789,2,7.5\\r\\n333445555,2,10.0\\r\\n333445555,3,10.0\\r\\n333445555,10,10.0\\r\\n333445555,20,10.0\\r\\n453453453,1,20.0\\r\\n453453453,2,20.0\\r\\n666884444,3,40.0\\r\\n888665555,20,\\r\\n987654321,20,15.0\\r\\n987654321,30,20.0\\r\\n987987987,10,35.0\\r\\n987987987,30,5.0\\r\\n999887777,10,10.0\\r\\n999887777,30,30.0\\r\\n'\n",
    "DEPENDENT_csv = 'Essn,Dependent_name,Sex,Bdate,Relationship\\r\\n123456789,Alice,F,1988-12-30,Daughter\\r\\n123456789,Elizabeth,F,1967-05-05,Spouse\\r\\n123456789,Michael,M,1988-01-04,Son\\r\\n333445555,Alice,F,1986-04-05,Daughter\\r\\n333445555,Joy,F,1958-05-03,Spouse\\r\\n333445555,Theodore,M,1983-10-25,Son\\r\\n987654321,Abner,M,1942-02-28,Spouse\\r\\n'\n",
    "\n",
    "# import packages\n",
    "\n",
    "import pandas as pd\n",
    "from io import StringIO \n",
    "import re\n",
    "\n",
    "# Tables\n",
    "EMPLOYEE = pd.read_csv(StringIO(EMPLOYEE_csv))\n",
    "DEPARTMENT = pd.read_csv(StringIO(DEPARTMENT_csv))\n",
    "DEPT_LOCATIONS = pd.read_csv(StringIO(DEPT_LOCATIONS_csv))\n",
    "PROJECT = pd.read_csv(StringIO(PROJECT_csv))\n",
    "WORKS_ON = pd.read_csv(StringIO(WORKS_ON_csv))\n",
    "DEPENDENT = pd.read_csv(StringIO(DEPENDENT_csv))\n",
    "\n",
    "# short_names for Tables\n",
    "E = EMPLOYEE\n",
    "D = DEPARTMENT\n",
    "DL = DEPT_LOCATIONS\n",
    "P = PROJECT\n",
    "WO = WORKS_ON\n",
    "DE = DEPENDENT\n",
    "\n",
    "def rename(R, C):\n",
    "    return R.rename(columns=C)\n",
    "\n",
    "def select(R, C):\n",
    "    # The following substitution may NOT work \n",
    "    # when column name is equal to a string value in C\n",
    "    tokens = re.split(r'(\\W+)', C)\n",
    "    new_tokens = [\"R.\" + token  if token in R.columns else token \\\n",
    "                  for token in tokens] \n",
    "    selected = eval(''.join(new_tokens))\n",
    "    return R[selected].reset_index(drop=True)\n",
    "\n",
    "def project(R, C):\n",
    "    return R[C].drop_duplicates().reset_index(drop=True)\n",
    "\n",
    "def union(R, S):\n",
    "    S.columns = R.columns\n",
    "    T = pd.concat([R, S], ignore_index=True)\n",
    "    T = T.drop_duplicates().reset_index(drop=True)\n",
    "    return T\n",
    "\n",
    "def intersect(R, S):\n",
    "    S.columns = R.columns\n",
    "    return R.merge(S).reset_index(drop=True)\n",
    "\n",
    "def minus(R, S):\n",
    "    S.columns = R.columns\n",
    "    return pd.concat([R, S, S]).drop_duplicates(keep=False).reset_index(drop=True)\n",
    "\n",
    "def product(R, S):\n",
    "    \"\"\"Determine Cartesian product of two data frames.\"\"\"\n",
    "    key = 'key'\n",
    "    while key in R.columns or key in S.columns:\n",
    "        key = '_' + key\n",
    "    key_d = {key: 0}\n",
    "    return pd.merge(R.assign(**key_d), S.assign(**key_d), on=key)\\\n",
    "           .drop(key, axis=1).reset_index(drop=True)\n",
    "\n",
    "def natural_join(R, S):\n",
    "    return pd.merge(R, S).reset_index(drop=True)\n",
    "\n",
    "def natural_join2(R, S, keys_R, keys_S):\n",
    "    return pd.merge(R, S, left_on=keys_R, right_on=keys_S)\\\n",
    "           .drop(keys_S, axis=1).reset_index(drop=True)\n",
    "\n",
    "def division(R, S):\n",
    "    Z = set(R.columns)\n",
    "    X = set(S.columns)\n",
    "    assert X <= Z\n",
    "    Y = pd.Index(Z - X)\n",
    "    T1 = project(R, Y)\n",
    "    T2 = project(minus(product(T1, S), R), Y)\n",
    "    T = minus(T1, T2)\n",
    "    return T.reset_index(drop=True)"
   ]
  },
  {
   "cell_type": "code",
   "execution_count": null,
   "metadata": {
    "id": "b21_fYVTFmsC"
   },
   "outputs": [],
   "source": []
  },
  {
   "cell_type": "markdown",
   "metadata": {
    "id": "rA_ny8CIP3tr"
   },
   "source": [
    "### Query 1: Retrieve the last name, first name, and address of employees who work for the \"Research\" department. (Use cartesian product. Do NOT use join)"
   ]
  },
  {
   "cell_type": "code",
   "execution_count": null,
   "metadata": {
    "colab": {
     "base_uri": "https://localhost:8080/",
     "height": 166
    },
    "id": "yK6hcc5sP3ts",
    "outputId": "10e4253a-20b8-429a-a9be-7eb81606af07"
   },
   "outputs": [
    {
     "data": {
      "text/html": [
       "<div>\n",
       "<style scoped>\n",
       "    .dataframe tbody tr th:only-of-type {\n",
       "        vertical-align: middle;\n",
       "    }\n",
       "\n",
       "    .dataframe tbody tr th {\n",
       "        vertical-align: top;\n",
       "    }\n",
       "\n",
       "    .dataframe thead th {\n",
       "        text-align: right;\n",
       "    }\n",
       "</style>\n",
       "<table border=\"1\" class=\"dataframe\">\n",
       "  <thead>\n",
       "    <tr style=\"text-align: right;\">\n",
       "      <th></th>\n",
       "      <th>Lname</th>\n",
       "      <th>Fname</th>\n",
       "      <th>Address</th>\n",
       "    </tr>\n",
       "  </thead>\n",
       "  <tbody>\n",
       "    <tr>\n",
       "      <th>0</th>\n",
       "      <td>Smith</td>\n",
       "      <td>John</td>\n",
       "      <td>731-Fondren-Houston-TX</td>\n",
       "    </tr>\n",
       "    <tr>\n",
       "      <th>1</th>\n",
       "      <td>Wong</td>\n",
       "      <td>Franklin</td>\n",
       "      <td>638-Voss-Houston-TX</td>\n",
       "    </tr>\n",
       "    <tr>\n",
       "      <th>2</th>\n",
       "      <td>English</td>\n",
       "      <td>Joyce</td>\n",
       "      <td>5631-Rice-Houston-TX</td>\n",
       "    </tr>\n",
       "    <tr>\n",
       "      <th>3</th>\n",
       "      <td>Narayan</td>\n",
       "      <td>Ramesh</td>\n",
       "      <td>975-Fire-Oak-Humble-TX</td>\n",
       "    </tr>\n",
       "  </tbody>\n",
       "</table>\n",
       "</div>"
      ],
      "text/plain": [
       "     Lname     Fname                 Address\n",
       "0    Smith      John  731-Fondren-Houston-TX\n",
       "1     Wong  Franklin     638-Voss-Houston-TX\n",
       "2  English     Joyce    5631-Rice-Houston-TX\n",
       "3  Narayan    Ramesh  975-Fire-Oak-Humble-TX"
      ]
     },
     "execution_count": 2,
     "metadata": {
      "tags": []
     },
     "output_type": "execute_result"
    }
   ],
   "source": [
    "# YOUR CODE HERE    10\n",
    "T= project(select(D,\"Dname=='Research'\"),['Dnumber'])\n",
    "U=select(product(E,T),\"Dno==Dnumber\")\n",
    "project(U,['Lname','Fname','Address'])"
   ]
  },
  {
   "cell_type": "markdown",
   "metadata": {
    "id": "BxYLGDszP3tv"
   },
   "source": [
    "### Query 2: Retrieve the last name, first name, and address of employees who work for the \"Research\" department. (Do NOT use cartesian product. Use natural join)"
   ]
  },
  {
   "cell_type": "code",
   "execution_count": null,
   "metadata": {
    "colab": {
     "base_uri": "https://localhost:8080/",
     "height": 166
    },
    "id": "ul2boG4aP3tw",
    "outputId": "d8d7d203-8459-4343-9865-6b2eceada607"
   },
   "outputs": [
    {
     "data": {
      "text/html": [
       "<div>\n",
       "<style scoped>\n",
       "    .dataframe tbody tr th:only-of-type {\n",
       "        vertical-align: middle;\n",
       "    }\n",
       "\n",
       "    .dataframe tbody tr th {\n",
       "        vertical-align: top;\n",
       "    }\n",
       "\n",
       "    .dataframe thead th {\n",
       "        text-align: right;\n",
       "    }\n",
       "</style>\n",
       "<table border=\"1\" class=\"dataframe\">\n",
       "  <thead>\n",
       "    <tr style=\"text-align: right;\">\n",
       "      <th></th>\n",
       "      <th>Lname</th>\n",
       "      <th>Fname</th>\n",
       "      <th>Address</th>\n",
       "    </tr>\n",
       "  </thead>\n",
       "  <tbody>\n",
       "    <tr>\n",
       "      <th>0</th>\n",
       "      <td>Smith</td>\n",
       "      <td>John</td>\n",
       "      <td>731-Fondren-Houston-TX</td>\n",
       "    </tr>\n",
       "    <tr>\n",
       "      <th>1</th>\n",
       "      <td>Wong</td>\n",
       "      <td>Franklin</td>\n",
       "      <td>638-Voss-Houston-TX</td>\n",
       "    </tr>\n",
       "    <tr>\n",
       "      <th>2</th>\n",
       "      <td>English</td>\n",
       "      <td>Joyce</td>\n",
       "      <td>5631-Rice-Houston-TX</td>\n",
       "    </tr>\n",
       "    <tr>\n",
       "      <th>3</th>\n",
       "      <td>Narayan</td>\n",
       "      <td>Ramesh</td>\n",
       "      <td>975-Fire-Oak-Humble-TX</td>\n",
       "    </tr>\n",
       "  </tbody>\n",
       "</table>\n",
       "</div>"
      ],
      "text/plain": [
       "     Lname     Fname                 Address\n",
       "0    Smith      John  731-Fondren-Houston-TX\n",
       "1     Wong  Franklin     638-Voss-Houston-TX\n",
       "2  English     Joyce    5631-Rice-Houston-TX\n",
       "3  Narayan    Ramesh  975-Fire-Oak-Humble-TX"
      ]
     },
     "execution_count": 3,
     "metadata": {
      "tags": []
     },
     "output_type": "execute_result"
    }
   ],
   "source": [
    "# YOUR CODE HERE      10\n",
    "T=rename(select(D,\"Dname=='Research'\"),{'Dnumber':'Dno'})\n",
    "U=natural_join(E,T)\n",
    "project(U,['Lname','Fname','Address'])"
   ]
  },
  {
   "cell_type": "markdown",
   "metadata": {
    "id": "XNt3dzLRP3ty"
   },
   "source": [
    "### Query 3: For every project located in \"Stafford\", list the project name, the controlling department name, and the department manager's last name, first name. (Use natural_join2, No cartesian products and natural joins are allowed)"
   ]
  },
  {
   "cell_type": "code",
   "execution_count": null,
   "metadata": {
    "colab": {
     "base_uri": "https://localhost:8080/",
     "height": 106
    },
    "id": "ApzKyGIAP3tz",
    "outputId": "bf67112d-823a-4cb1-a083-30f8a7aba0f9"
   },
   "outputs": [
    {
     "data": {
      "text/html": [
       "<div>\n",
       "<style scoped>\n",
       "    .dataframe tbody tr th:only-of-type {\n",
       "        vertical-align: middle;\n",
       "    }\n",
       "\n",
       "    .dataframe tbody tr th {\n",
       "        vertical-align: top;\n",
       "    }\n",
       "\n",
       "    .dataframe thead th {\n",
       "        text-align: right;\n",
       "    }\n",
       "</style>\n",
       "<table border=\"1\" class=\"dataframe\">\n",
       "  <thead>\n",
       "    <tr style=\"text-align: right;\">\n",
       "      <th></th>\n",
       "      <th>Pname</th>\n",
       "      <th>Dname</th>\n",
       "      <th>Lname</th>\n",
       "      <th>Fname</th>\n",
       "    </tr>\n",
       "  </thead>\n",
       "  <tbody>\n",
       "    <tr>\n",
       "      <th>0</th>\n",
       "      <td>Computerization</td>\n",
       "      <td>Administration</td>\n",
       "      <td>Wallace</td>\n",
       "      <td>Jennifer</td>\n",
       "    </tr>\n",
       "    <tr>\n",
       "      <th>1</th>\n",
       "      <td>Newbenefits</td>\n",
       "      <td>Administration</td>\n",
       "      <td>Wallace</td>\n",
       "      <td>Jennifer</td>\n",
       "    </tr>\n",
       "  </tbody>\n",
       "</table>\n",
       "</div>"
      ],
      "text/plain": [
       "             Pname           Dname    Lname     Fname\n",
       "0  Computerization  Administration  Wallace  Jennifer\n",
       "1      Newbenefits  Administration  Wallace  Jennifer"
      ]
     },
     "execution_count": 4,
     "metadata": {
      "tags": []
     },
     "output_type": "execute_result"
    }
   ],
   "source": [
    "# YOUR CODE HERE      10\n",
    "T=select(P,\"Plocation=='Stafford'\")\n",
    "U=natural_join2(D,T,['Dnumber'],['Dnum'])\n",
    "V=natural_join2(E, U,['Ssn'],['Mgrssn'])\n",
    "project(V,['Pname','Dname','Lname','Fname'])"
   ]
  },
  {
   "cell_type": "markdown",
   "metadata": {
    "id": "f9ZYDEEkP3t5"
   },
   "source": [
    "### Query 4: Find the last name, first name of employees who work on all the projects controlled by department number 4."
   ]
  },
  {
   "cell_type": "code",
   "execution_count": null,
   "metadata": {
    "colab": {
     "base_uri": "https://localhost:8080/",
     "height": 166
    },
    "id": "TzqPprsjP3t6",
    "outputId": "e69cddfb-201d-4292-e603-841ad5cc890c"
   },
   "outputs": [
    {
     "data": {
      "text/html": [
       "<div>\n",
       "<style scoped>\n",
       "    .dataframe tbody tr th:only-of-type {\n",
       "        vertical-align: middle;\n",
       "    }\n",
       "\n",
       "    .dataframe tbody tr th {\n",
       "        vertical-align: top;\n",
       "    }\n",
       "\n",
       "    .dataframe thead th {\n",
       "        text-align: right;\n",
       "    }\n",
       "</style>\n",
       "<table border=\"1\" class=\"dataframe\">\n",
       "  <thead>\n",
       "    <tr style=\"text-align: right;\">\n",
       "      <th></th>\n",
       "      <th>Lname</th>\n",
       "      <th>Fname</th>\n",
       "    </tr>\n",
       "  </thead>\n",
       "  <tbody>\n",
       "    <tr>\n",
       "      <th>0</th>\n",
       "      <td>Wong</td>\n",
       "      <td>Franklin</td>\n",
       "    </tr>\n",
       "    <tr>\n",
       "      <th>1</th>\n",
       "      <td>Wallace</td>\n",
       "      <td>Jennifer</td>\n",
       "    </tr>\n",
       "    <tr>\n",
       "      <th>2</th>\n",
       "      <td>Jabbar</td>\n",
       "      <td>Ahmad</td>\n",
       "    </tr>\n",
       "    <tr>\n",
       "      <th>3</th>\n",
       "      <td>Zelaya</td>\n",
       "      <td>Alicia</td>\n",
       "    </tr>\n",
       "  </tbody>\n",
       "</table>\n",
       "</div>"
      ],
      "text/plain": [
       "     Lname     Fname\n",
       "0     Wong  Franklin\n",
       "1  Wallace  Jennifer\n",
       "2   Jabbar     Ahmad\n",
       "3   Zelaya    Alicia"
      ]
     },
     "execution_count": 5,
     "metadata": {
      "tags": []
     },
     "output_type": "execute_result"
    }
   ],
   "source": [
    "# YOUR CODE HERE      0\n",
    "T=select(P,\"Dnum==4\")\n",
    "U=natural_join2(WO, T,['Pno'],['Pnumber'])\n",
    "V=natural_join2(E, U,['Ssn'],['Essn'])\n",
    "project(V,['Lname','Fname'])"
   ]
  },
  {
   "cell_type": "markdown",
   "metadata": {
    "id": "Ts769INWP3uA"
   },
   "source": [
    "### Query 5: Make a list of project names for projects that involve an employee whose last name is \"Wallace\", either as a worker or as a manager of the department that controls the project."
   ]
  },
  {
   "cell_type": "code",
   "execution_count": null,
   "metadata": {
    "colab": {
     "base_uri": "https://localhost:8080/",
     "height": 136
    },
    "id": "QuAJslgcP3uB",
    "outputId": "224767ca-d834-437c-e5c7-1ec628bd05db"
   },
   "outputs": [
    {
     "data": {
      "text/html": [
       "<div>\n",
       "<style scoped>\n",
       "    .dataframe tbody tr th:only-of-type {\n",
       "        vertical-align: middle;\n",
       "    }\n",
       "\n",
       "    .dataframe tbody tr th {\n",
       "        vertical-align: top;\n",
       "    }\n",
       "\n",
       "    .dataframe thead th {\n",
       "        text-align: right;\n",
       "    }\n",
       "</style>\n",
       "<table border=\"1\" class=\"dataframe\">\n",
       "  <thead>\n",
       "    <tr style=\"text-align: right;\">\n",
       "      <th></th>\n",
       "      <th>Pname</th>\n",
       "    </tr>\n",
       "  </thead>\n",
       "  <tbody>\n",
       "    <tr>\n",
       "      <th>0</th>\n",
       "      <td>Reorganization</td>\n",
       "    </tr>\n",
       "    <tr>\n",
       "      <th>1</th>\n",
       "      <td>Newbenefits</td>\n",
       "    </tr>\n",
       "    <tr>\n",
       "      <th>2</th>\n",
       "      <td>Computerization</td>\n",
       "    </tr>\n",
       "  </tbody>\n",
       "</table>\n",
       "</div>"
      ],
      "text/plain": [
       "             Pname\n",
       "0   Reorganization\n",
       "1      Newbenefits\n",
       "2  Computerization"
      ]
     },
     "execution_count": 6,
     "metadata": {
      "tags": []
     },
     "output_type": "execute_result"
    }
   ],
   "source": [
    "# YOUR CODE HERE        10\n",
    "T=select(E,\"Lname=='Wallace'\")\n",
    "#worker로서\n",
    "U=natural_join2(T, WO,['Ssn'],['Essn'])\n",
    "U2=natural_join2(U, P,['Pno'],['Pnumber'])\n",
    "U3=project(U2,['Pname'])\n",
    "#메니저로서\n",
    "V=natural_join2(T, D,['Ssn'],['Mgrssn'])\n",
    "V2=natural_join2(V, P,['Dno'],['Dnum'])\n",
    "V3=project(V2,['Pname'])\n",
    "union(U3,V3)"
   ]
  },
  {
   "cell_type": "markdown",
   "metadata": {
    "id": "BlcvP2cgP3uG"
   },
   "source": [
    "### Query 6: List the last name, first name of all employees with two or more dependents. (Do NOT use aggregate operator)"
   ]
  },
  {
   "cell_type": "code",
   "execution_count": null,
   "metadata": {
    "colab": {
     "base_uri": "https://localhost:8080/",
     "height": 124
    },
    "id": "F3G-JtLjP3uH",
    "outputId": "b92171d4-7c05-4dd5-8306-deb0acf6b299"
   },
   "outputs": [
    {
     "name": "stdout",
     "output_type": "stream",
     "text": [
      "3\n"
     ]
    },
    {
     "data": {
      "text/html": [
       "<div>\n",
       "<style scoped>\n",
       "    .dataframe tbody tr th:only-of-type {\n",
       "        vertical-align: middle;\n",
       "    }\n",
       "\n",
       "    .dataframe tbody tr th {\n",
       "        vertical-align: top;\n",
       "    }\n",
       "\n",
       "    .dataframe thead th {\n",
       "        text-align: right;\n",
       "    }\n",
       "</style>\n",
       "<table border=\"1\" class=\"dataframe\">\n",
       "  <thead>\n",
       "    <tr style=\"text-align: right;\">\n",
       "      <th></th>\n",
       "      <th>Lname</th>\n",
       "      <th>Fname</th>\n",
       "    </tr>\n",
       "  </thead>\n",
       "  <tbody>\n",
       "    <tr>\n",
       "      <th>0</th>\n",
       "      <td>Smith</td>\n",
       "      <td>John</td>\n",
       "    </tr>\n",
       "    <tr>\n",
       "      <th>1</th>\n",
       "      <td>Wong</td>\n",
       "      <td>Franklin</td>\n",
       "    </tr>\n",
       "  </tbody>\n",
       "</table>\n",
       "</div>"
      ],
      "text/plain": [
       "   Lname     Fname\n",
       "0  Smith      John\n",
       "1   Wong  Franklin"
      ]
     },
     "execution_count": 7,
     "metadata": {
      "tags": []
     },
     "output_type": "execute_result"
    }
   ],
   "source": [
    "# YOUR CODE HERE        10\n",
    "Y=project(DE,['Essn','Relationship'])\n",
    "X=project(DE,['Relationship'])\n",
    "#spouse는 반드시 포함되며, 2명일 수 없다. relationship은 spouse,son,daughter 3개다. relationship으로 두개씩 다른 값을 갖는 릴레이션을 만든다.\n",
    "A=X['Relationship'][0:2].to_frame()\n",
    "B=X['Relationship'][1:3].to_frame()\n",
    "C=X['Relationship'][0:3:2].to_frame()\n",
    "#이 세가지 릴레이션을 각기 디비전해서 유니온하면, 2명 이상의 dependents를 가진 essn만 남는다.\n",
    "A1=division(Y,A)\n",
    "B1=division(Y,B)\n",
    "C1=division(Y,C)\n",
    "T=union(A1,B1)\n",
    "U=union(T,C1)\n",
    "V=natural_join2(E,U,['Ssn'],['Essn'])\n",
    "project(V,['Lname','Fname'])"
   ]
  },
  {
   "cell_type": "markdown",
   "metadata": {
    "id": "uIOy1X6NP3uM"
   },
   "source": [
    "### Query 7: Retrieve the last name, first name of employees who have no dependents."
   ]
  },
  {
   "cell_type": "code",
   "execution_count": null,
   "metadata": {
    "colab": {
     "base_uri": "https://localhost:8080/",
     "height": 195
    },
    "id": "1z-Tg-VLP3uM",
    "outputId": "3ba8fc39-724e-46cb-ed00-e380df6edc13"
   },
   "outputs": [
    {
     "data": {
      "text/html": [
       "<div>\n",
       "<style scoped>\n",
       "    .dataframe tbody tr th:only-of-type {\n",
       "        vertical-align: middle;\n",
       "    }\n",
       "\n",
       "    .dataframe tbody tr th {\n",
       "        vertical-align: top;\n",
       "    }\n",
       "\n",
       "    .dataframe thead th {\n",
       "        text-align: right;\n",
       "    }\n",
       "</style>\n",
       "<table border=\"1\" class=\"dataframe\">\n",
       "  <thead>\n",
       "    <tr style=\"text-align: right;\">\n",
       "      <th></th>\n",
       "      <th>Lname</th>\n",
       "      <th>Fname</th>\n",
       "    </tr>\n",
       "  </thead>\n",
       "  <tbody>\n",
       "    <tr>\n",
       "      <th>0</th>\n",
       "      <td>English</td>\n",
       "      <td>Joyce</td>\n",
       "    </tr>\n",
       "    <tr>\n",
       "      <th>1</th>\n",
       "      <td>Narayan</td>\n",
       "      <td>Ramesh</td>\n",
       "    </tr>\n",
       "    <tr>\n",
       "      <th>2</th>\n",
       "      <td>Borg</td>\n",
       "      <td>James</td>\n",
       "    </tr>\n",
       "    <tr>\n",
       "      <th>3</th>\n",
       "      <td>Jabbar</td>\n",
       "      <td>Ahmad</td>\n",
       "    </tr>\n",
       "    <tr>\n",
       "      <th>4</th>\n",
       "      <td>Zelaya</td>\n",
       "      <td>Alicia</td>\n",
       "    </tr>\n",
       "  </tbody>\n",
       "</table>\n",
       "</div>"
      ],
      "text/plain": [
       "     Lname   Fname\n",
       "0  English   Joyce\n",
       "1  Narayan  Ramesh\n",
       "2     Borg   James\n",
       "3   Jabbar   Ahmad\n",
       "4   Zelaya  Alicia"
      ]
     },
     "execution_count": 8,
     "metadata": {
      "tags": []
     },
     "output_type": "execute_result"
    }
   ],
   "source": [
    "# YOUR CODE HERE        10\n",
    "T=project(DE,['Essn'])\n",
    "V=project(E,['Lname','Fname'])\n",
    "U=natural_join2(E,T,['Ssn'],['Essn'])\n",
    "U1=project(U,['Lname','Fname'])\n",
    "minus(V, U1)"
   ]
  },
  {
   "cell_type": "markdown",
   "metadata": {
    "id": "xWaevC1CP3uP"
   },
   "source": [
    "### Query 8: List the last name, first name of managers who have at least one dependent."
   ]
  },
  {
   "cell_type": "code",
   "execution_count": null,
   "metadata": {
    "colab": {
     "base_uri": "https://localhost:8080/",
     "height": 106
    },
    "id": "9ATEJuyKP3uP",
    "outputId": "04393406-403e-44ef-ae0c-344d9be26c01"
   },
   "outputs": [
    {
     "data": {
      "text/html": [
       "<div>\n",
       "<style scoped>\n",
       "    .dataframe tbody tr th:only-of-type {\n",
       "        vertical-align: middle;\n",
       "    }\n",
       "\n",
       "    .dataframe tbody tr th {\n",
       "        vertical-align: top;\n",
       "    }\n",
       "\n",
       "    .dataframe thead th {\n",
       "        text-align: right;\n",
       "    }\n",
       "</style>\n",
       "<table border=\"1\" class=\"dataframe\">\n",
       "  <thead>\n",
       "    <tr style=\"text-align: right;\">\n",
       "      <th></th>\n",
       "      <th>Lname</th>\n",
       "      <th>Fname</th>\n",
       "    </tr>\n",
       "  </thead>\n",
       "  <tbody>\n",
       "    <tr>\n",
       "      <th>0</th>\n",
       "      <td>Wong</td>\n",
       "      <td>Franklin</td>\n",
       "    </tr>\n",
       "    <tr>\n",
       "      <th>1</th>\n",
       "      <td>Wallace</td>\n",
       "      <td>Jennifer</td>\n",
       "    </tr>\n",
       "  </tbody>\n",
       "</table>\n",
       "</div>"
      ],
      "text/plain": [
       "     Lname     Fname\n",
       "0     Wong  Franklin\n",
       "1  Wallace  Jennifer"
      ]
     },
     "execution_count": 9,
     "metadata": {
      "tags": []
     },
     "output_type": "execute_result"
    }
   ],
   "source": [
    "# YOUR CODE HERE      10\n",
    "T=project(DE,['Essn'])\n",
    "U=natural_join2(E,T,['Ssn'],['Essn'])\n",
    "V=natural_join2(U,D,['Ssn'],['Mgrssn'])\n",
    "project(V,['Lname','Fname'])"
   ]
  },
  {
   "cell_type": "markdown",
   "metadata": {
    "id": "w0l4bf1QP3uR"
   },
   "source": [
    "### Query 9: Retrieve the last name, first name of all employees in department 5 who work more than 10 hours per week on the ProductX project."
   ]
  },
  {
   "cell_type": "code",
   "execution_count": null,
   "metadata": {
    "colab": {
     "base_uri": "https://localhost:8080/",
     "height": 106
    },
    "id": "9q8_9K0OCp8r",
    "outputId": "f16d3887-1ce7-4a53-e6af-4a9444bc6d25"
   },
   "outputs": [
    {
     "data": {
      "text/html": [
       "<div>\n",
       "<style scoped>\n",
       "    .dataframe tbody tr th:only-of-type {\n",
       "        vertical-align: middle;\n",
       "    }\n",
       "\n",
       "    .dataframe tbody tr th {\n",
       "        vertical-align: top;\n",
       "    }\n",
       "\n",
       "    .dataframe thead th {\n",
       "        text-align: right;\n",
       "    }\n",
       "</style>\n",
       "<table border=\"1\" class=\"dataframe\">\n",
       "  <thead>\n",
       "    <tr style=\"text-align: right;\">\n",
       "      <th></th>\n",
       "      <th>Lname</th>\n",
       "      <th>Fname</th>\n",
       "    </tr>\n",
       "  </thead>\n",
       "  <tbody>\n",
       "    <tr>\n",
       "      <th>0</th>\n",
       "      <td>Smith</td>\n",
       "      <td>John</td>\n",
       "    </tr>\n",
       "    <tr>\n",
       "      <th>1</th>\n",
       "      <td>English</td>\n",
       "      <td>Joyce</td>\n",
       "    </tr>\n",
       "  </tbody>\n",
       "</table>\n",
       "</div>"
      ],
      "text/plain": [
       "     Lname  Fname\n",
       "0    Smith   John\n",
       "1  English  Joyce"
      ]
     },
     "execution_count": 10,
     "metadata": {
      "tags": []
     },
     "output_type": "execute_result"
    }
   ],
   "source": [
    "# YOUR CODE HERE        10\n",
    "ProdX=select(P,\"Pname=='ProductX'\")\n",
    "Dep5=select(E,\"Dno==5\")\n",
    "More10=select(WO,\"Hours>10\")\n",
    "T=natural_join2(Dep5, More10, ['Ssn'],['Essn']) \n",
    "U=natural_join2(T, ProdX, ['Pno'],['Pnumber']) \n",
    "project(U,['Lname','Fname'])"
   ]
  },
  {
   "cell_type": "markdown",
   "metadata": {
    "id": "gOKWFkBZP3uU"
   },
   "source": [
    "### Query 10: Retrieve the last name, first name of all employees who is supervised by James Borg"
   ]
  },
  {
   "cell_type": "code",
   "execution_count": null,
   "metadata": {
    "colab": {
     "base_uri": "https://localhost:8080/",
     "height": 254
    },
    "id": "_CGGnG5RP3uV",
    "outputId": "01983b65-aebd-4fc4-8b66-de89699e7e3d"
   },
   "outputs": [
    {
     "data": {
      "text/html": [
       "<div>\n",
       "<style scoped>\n",
       "    .dataframe tbody tr th:only-of-type {\n",
       "        vertical-align: middle;\n",
       "    }\n",
       "\n",
       "    .dataframe tbody tr th {\n",
       "        vertical-align: top;\n",
       "    }\n",
       "\n",
       "    .dataframe thead th {\n",
       "        text-align: right;\n",
       "    }\n",
       "</style>\n",
       "<table border=\"1\" class=\"dataframe\">\n",
       "  <thead>\n",
       "    <tr style=\"text-align: right;\">\n",
       "      <th></th>\n",
       "      <th>Lname</th>\n",
       "      <th>Fname</th>\n",
       "    </tr>\n",
       "  </thead>\n",
       "  <tbody>\n",
       "    <tr>\n",
       "      <th>0</th>\n",
       "      <td>Wong</td>\n",
       "      <td>Franklin</td>\n",
       "    </tr>\n",
       "    <tr>\n",
       "      <th>1</th>\n",
       "      <td>Wallace</td>\n",
       "      <td>Jennifer</td>\n",
       "    </tr>\n",
       "    <tr>\n",
       "      <th>2</th>\n",
       "      <td>Smith</td>\n",
       "      <td>John</td>\n",
       "    </tr>\n",
       "    <tr>\n",
       "      <th>3</th>\n",
       "      <td>English</td>\n",
       "      <td>Joyce</td>\n",
       "    </tr>\n",
       "    <tr>\n",
       "      <th>4</th>\n",
       "      <td>Narayan</td>\n",
       "      <td>Ramesh</td>\n",
       "    </tr>\n",
       "    <tr>\n",
       "      <th>5</th>\n",
       "      <td>Jabbar</td>\n",
       "      <td>Ahmad</td>\n",
       "    </tr>\n",
       "    <tr>\n",
       "      <th>6</th>\n",
       "      <td>Zelaya</td>\n",
       "      <td>Alicia</td>\n",
       "    </tr>\n",
       "  </tbody>\n",
       "</table>\n",
       "</div>"
      ],
      "text/plain": [
       "     Lname     Fname\n",
       "0     Wong  Franklin\n",
       "1  Wallace  Jennifer\n",
       "2    Smith      John\n",
       "3  English     Joyce\n",
       "4  Narayan    Ramesh\n",
       "5   Jabbar     Ahmad\n",
       "6   Zelaya    Alicia"
      ]
     },
     "execution_count": 11,
     "metadata": {
      "tags": []
     },
     "output_type": "execute_result"
    }
   ],
   "source": [
    "# YOUR CODE HERE      0\n",
    "T=project(select(E,\"(Fname=='James') & (Lname == 'Borg')\"),['Ssn'])\n",
    "U=project(E,['Fname','Lname','Ssn','Superssn'])\n",
    "while True:# Borg에게 supervise되는 모든 employee\n",
    "  V=natural_join2(T,U,['Ssn'],['Superssn'])\n",
    "  T=rename(project(V, ['Ssn_y']),{'Ssn_y':'Ssn'})\n",
    "  try:\n",
    "    W = union(W,project(V, ['Lname','Fname']))\n",
    "  except:#처음에 한번만 실행.\n",
    "    W = project(V, ['Lname','Fname'])\n",
    "  if len(V) == 0: break\n",
    "  else: continue\n",
    "W"
   ]
  },
  {
   "cell_type": "code",
   "execution_count": null,
   "metadata": {
    "id": "tNmPmVGEDKsu"
   },
   "outputs": [],
   "source": []
  }
 ],
 "metadata": {
  "colab": {
   "collapsed_sections": [],
   "name": "노석한 - ch7_homework_RA-2020-student.ipynb",
   "provenance": []
  },
  "kernelspec": {
   "display_name": "Python 3",
   "language": "python",
   "name": "python3"
  },
  "language_info": {
   "codemirror_mode": {
    "name": "ipython",
    "version": 3
   },
   "file_extension": ".py",
   "mimetype": "text/x-python",
   "name": "python",
   "nbconvert_exporter": "python",
   "pygments_lexer": "ipython3",
   "version": "3.8.3"
  }
 },
 "nbformat": 4,
 "nbformat_minor": 1
}
